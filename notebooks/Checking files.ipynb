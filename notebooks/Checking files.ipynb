{
 "cells": [
  {
   "cell_type": "code",
   "execution_count": 1,
   "id": "3afc191f",
   "metadata": {},
   "outputs": [],
   "source": [
    "import pandas as pd\n",
    "import geopandas as gpd"
   ]
  },
  {
   "cell_type": "code",
   "execution_count": 4,
   "id": "68742f7b",
   "metadata": {},
   "outputs": [],
   "source": [
    "App_shape = gpd.read_file(\"/Users/baiken/Documents/GitHub/680/Aiken_Ben_AppalachiaBroadband/raw_data/Appalachia Shape\")\n",
    "App_state_shape = gpd.read_file(\"/Users/baiken/Documents/GitHub/680/Aiken_Ben_AppalachiaBroadband/raw_data/Appalachia Shape with State Lines\")"
   ]
  },
  {
   "cell_type": "code",
   "execution_count": 3,
   "id": "f3d05326",
   "metadata": {},
   "outputs": [
    {
     "data": {
      "text/html": [
       "<div>\n",
       "<style scoped>\n",
       "    .dataframe tbody tr th:only-of-type {\n",
       "        vertical-align: middle;\n",
       "    }\n",
       "\n",
       "    .dataframe tbody tr th {\n",
       "        vertical-align: top;\n",
       "    }\n",
       "\n",
       "    .dataframe thead th {\n",
       "        text-align: right;\n",
       "    }\n",
       "</style>\n",
       "<table border=\"1\" class=\"dataframe\">\n",
       "  <thead>\n",
       "    <tr style=\"text-align: right;\">\n",
       "      <th></th>\n",
       "      <th>STATE_NAME</th>\n",
       "      <th>Shape_Leng</th>\n",
       "      <th>Shape_Area</th>\n",
       "      <th>geometry</th>\n",
       "    </tr>\n",
       "  </thead>\n",
       "  <tbody>\n",
       "    <tr>\n",
       "      <th>0</th>\n",
       "      <td>All States</td>\n",
       "      <td>78.752835</td>\n",
       "      <td>55.299322</td>\n",
       "      <td>POLYGON ((-74.98311 42.85890, -74.97125 42.853...</td>\n",
       "    </tr>\n",
       "  </tbody>\n",
       "</table>\n",
       "</div>"
      ],
      "text/plain": [
       "   STATE_NAME  Shape_Leng  Shape_Area  \\\n",
       "0  All States   78.752835   55.299322   \n",
       "\n",
       "                                            geometry  \n",
       "0  POLYGON ((-74.98311 42.85890, -74.97125 42.853...  "
      ]
     },
     "execution_count": 3,
     "metadata": {},
     "output_type": "execute_result"
    }
   ],
   "source": [
    "App_shape"
   ]
  },
  {
   "cell_type": "code",
   "execution_count": 14,
   "id": "4b6593d0",
   "metadata": {},
   "outputs": [
    {
     "data": {
      "text/plain": [
       "<Geographic 2D CRS: EPSG:4269>\n",
       "Name: NAD83\n",
       "Axis Info [ellipsoidal]:\n",
       "- Lat[north]: Geodetic latitude (degree)\n",
       "- Lon[east]: Geodetic longitude (degree)\n",
       "Area of Use:\n",
       "- name: North America - onshore and offshore: Canada - Alberta; British Columbia; Manitoba; New Brunswick; Newfoundland and Labrador; Northwest Territories; Nova Scotia; Nunavut; Ontario; Prince Edward Island; Quebec; Saskatchewan; Yukon. Puerto Rico. United States (USA) - Alabama; Alaska; Arizona; Arkansas; California; Colorado; Connecticut; Delaware; Florida; Georgia; Hawaii; Idaho; Illinois; Indiana; Iowa; Kansas; Kentucky; Louisiana; Maine; Maryland; Massachusetts; Michigan; Minnesota; Mississippi; Missouri; Montana; Nebraska; Nevada; New Hampshire; New Jersey; New Mexico; New York; North Carolina; North Dakota; Ohio; Oklahoma; Oregon; Pennsylvania; Rhode Island; South Carolina; South Dakota; Tennessee; Texas; Utah; Vermont; Virginia; Washington; West Virginia; Wisconsin; Wyoming. US Virgin Islands.  British Virgin Islands.\n",
       "- bounds: (167.65, 14.92, -47.74, 86.46)\n",
       "Datum: North American Datum 1983\n",
       "- Ellipsoid: GRS 1980\n",
       "- Prime Meridian: Greenwich"
      ]
     },
     "execution_count": 14,
     "metadata": {},
     "output_type": "execute_result"
    }
   ],
   "source": [
    "App_state_shape.crs"
   ]
  },
  {
   "cell_type": "code",
   "execution_count": 11,
   "id": "5a32626b",
   "metadata": {},
   "outputs": [],
   "source": [
    "mines_85 = gpd.read_file('/Users/baiken/Documents/GitHub/680/Aiken_Ben_AppalachiaBroadband/raw_data/Mines/5072/1985_5072')"
   ]
  },
  {
   "cell_type": "code",
   "execution_count": 21,
   "id": "a15f298f",
   "metadata": {},
   "outputs": [
    {
     "data": {
      "text/html": [
       "<div>\n",
       "<style scoped>\n",
       "    .dataframe tbody tr th:only-of-type {\n",
       "        vertical-align: middle;\n",
       "    }\n",
       "\n",
       "    .dataframe tbody tr th {\n",
       "        vertical-align: top;\n",
       "    }\n",
       "\n",
       "    .dataframe thead th {\n",
       "        text-align: right;\n",
       "    }\n",
       "</style>\n",
       "<table border=\"1\" class=\"dataframe\">\n",
       "  <thead>\n",
       "    <tr style=\"text-align: right;\">\n",
       "      <th></th>\n",
       "      <th>id</th>\n",
       "      <th>sum</th>\n",
       "      <th>year</th>\n",
       "      <th>geometry</th>\n",
       "    </tr>\n",
       "  </thead>\n",
       "  <tbody>\n",
       "    <tr>\n",
       "      <th>0</th>\n",
       "      <td>+30301+50503</td>\n",
       "      <td>15300.0</td>\n",
       "      <td>1985</td>\n",
       "      <td>POLYGON ((908970.000 1515120.004, 909060.000 1...</td>\n",
       "    </tr>\n",
       "    <tr>\n",
       "      <th>1</th>\n",
       "      <td>+30725+49813</td>\n",
       "      <td>9900.0</td>\n",
       "      <td>1985</td>\n",
       "      <td>MULTIPOLYGON (((921720.042 1494389.582, 921720...</td>\n",
       "    </tr>\n",
       "    <tr>\n",
       "      <th>2</th>\n",
       "      <td>+30742+50016</td>\n",
       "      <td>41400.0</td>\n",
       "      <td>1985</td>\n",
       "      <td>POLYGON ((922200.000 1500510.004, 922290.000 1...</td>\n",
       "    </tr>\n",
       "    <tr>\n",
       "      <th>3</th>\n",
       "      <td>+30767+49923</td>\n",
       "      <td>14400.0</td>\n",
       "      <td>1985</td>\n",
       "      <td>POLYGON ((923010.000 1497720.004, 923040.000 1...</td>\n",
       "    </tr>\n",
       "    <tr>\n",
       "      <th>4</th>\n",
       "      <td>+30773+49907</td>\n",
       "      <td>21600.0</td>\n",
       "      <td>1985</td>\n",
       "      <td>POLYGON ((923130.000 1497240.004, 923220.000 1...</td>\n",
       "    </tr>\n",
       "    <tr>\n",
       "      <th>...</th>\n",
       "      <td>...</td>\n",
       "      <td>...</td>\n",
       "      <td>...</td>\n",
       "      <td>...</td>\n",
       "    </tr>\n",
       "    <tr>\n",
       "      <th>11237</th>\n",
       "      <td>+46405+61035</td>\n",
       "      <td>18000.0</td>\n",
       "      <td>1985</td>\n",
       "      <td>POLYGON ((1392149.999 1831080.004, 1392179.999...</td>\n",
       "    </tr>\n",
       "    <tr>\n",
       "      <th>11238</th>\n",
       "      <td>+46409+60876</td>\n",
       "      <td>26100.0</td>\n",
       "      <td>1985</td>\n",
       "      <td>MULTIPOLYGON (((1392180.194 1826010.138, 13921...</td>\n",
       "    </tr>\n",
       "    <tr>\n",
       "      <th>11239</th>\n",
       "      <td>+46437+61418</td>\n",
       "      <td>9000.0</td>\n",
       "      <td>1985</td>\n",
       "      <td>MULTIPOLYGON (((1393019.706 1842540.140, 13930...</td>\n",
       "    </tr>\n",
       "    <tr>\n",
       "      <th>11240</th>\n",
       "      <td>+46500+61101</td>\n",
       "      <td>9000.0</td>\n",
       "      <td>1985</td>\n",
       "      <td>POLYGON ((1394969.999 1833060.004, 1395029.999...</td>\n",
       "    </tr>\n",
       "    <tr>\n",
       "      <th>11241</th>\n",
       "      <td>+46502+60818</td>\n",
       "      <td>10800.0</td>\n",
       "      <td>1985</td>\n",
       "      <td>MULTIPOLYGON (((1395059.626 1824510.466, 13950...</td>\n",
       "    </tr>\n",
       "  </tbody>\n",
       "</table>\n",
       "<p>11242 rows × 4 columns</p>\n",
       "</div>"
      ],
      "text/plain": [
       "                 id      sum  year  \\\n",
       "0      +30301+50503  15300.0  1985   \n",
       "1      +30725+49813   9900.0  1985   \n",
       "2      +30742+50016  41400.0  1985   \n",
       "3      +30767+49923  14400.0  1985   \n",
       "4      +30773+49907  21600.0  1985   \n",
       "...             ...      ...   ...   \n",
       "11237  +46405+61035  18000.0  1985   \n",
       "11238  +46409+60876  26100.0  1985   \n",
       "11239  +46437+61418   9000.0  1985   \n",
       "11240  +46500+61101   9000.0  1985   \n",
       "11241  +46502+60818  10800.0  1985   \n",
       "\n",
       "                                                geometry  \n",
       "0      POLYGON ((908970.000 1515120.004, 909060.000 1...  \n",
       "1      MULTIPOLYGON (((921720.042 1494389.582, 921720...  \n",
       "2      POLYGON ((922200.000 1500510.004, 922290.000 1...  \n",
       "3      POLYGON ((923010.000 1497720.004, 923040.000 1...  \n",
       "4      POLYGON ((923130.000 1497240.004, 923220.000 1...  \n",
       "...                                                  ...  \n",
       "11237  POLYGON ((1392149.999 1831080.004, 1392179.999...  \n",
       "11238  MULTIPOLYGON (((1392180.194 1826010.138, 13921...  \n",
       "11239  MULTIPOLYGON (((1393019.706 1842540.140, 13930...  \n",
       "11240  POLYGON ((1394969.999 1833060.004, 1395029.999...  \n",
       "11241  MULTIPOLYGON (((1395059.626 1824510.466, 13950...  \n",
       "\n",
       "[11242 rows x 4 columns]"
      ]
     },
     "execution_count": 21,
     "metadata": {},
     "output_type": "execute_result"
    }
   ],
   "source": [
    "mines_85"
   ]
  },
  {
   "cell_type": "code",
   "execution_count": 15,
   "id": "cd4ae983",
   "metadata": {},
   "outputs": [],
   "source": [
    "county_data = pd.read_csv(\"/Users/baiken/Documents/GitHub/680/Aiken_Ben_AppalachiaBroadband/raw_data/app_county.csv\")"
   ]
  },
  {
   "cell_type": "code",
   "execution_count": 16,
   "id": "fb262b75",
   "metadata": {},
   "outputs": [
    {
     "ename": "AttributeError",
     "evalue": "'DataFrame' object has no attribute 'crs'",
     "output_type": "error",
     "traceback": [
      "\u001b[0;31m---------------------------------------------------------------------------\u001b[0m",
      "\u001b[0;31mAttributeError\u001b[0m                            Traceback (most recent call last)",
      "\u001b[0;32m/var/folders/r8/dg1zrwcd6gbgcrc59pn6x1yc0000gn/T/ipykernel_28347/746527631.py\u001b[0m in \u001b[0;36m<module>\u001b[0;34m\u001b[0m\n\u001b[0;32m----> 1\u001b[0;31m \u001b[0mcounty_data\u001b[0m\u001b[0;34m.\u001b[0m\u001b[0mcrs\u001b[0m\u001b[0;34m\u001b[0m\u001b[0;34m\u001b[0m\u001b[0m\n\u001b[0m",
      "\u001b[0;32m~/miniconda3/envs/musa-550-fall-2021/lib/python3.8/site-packages/pandas/core/generic.py\u001b[0m in \u001b[0;36m__getattr__\u001b[0;34m(self, name)\u001b[0m\n\u001b[1;32m   5485\u001b[0m         ):\n\u001b[1;32m   5486\u001b[0m             \u001b[0;32mreturn\u001b[0m \u001b[0mself\u001b[0m\u001b[0;34m[\u001b[0m\u001b[0mname\u001b[0m\u001b[0;34m]\u001b[0m\u001b[0;34m\u001b[0m\u001b[0;34m\u001b[0m\u001b[0m\n\u001b[0;32m-> 5487\u001b[0;31m         \u001b[0;32mreturn\u001b[0m \u001b[0mobject\u001b[0m\u001b[0;34m.\u001b[0m\u001b[0m__getattribute__\u001b[0m\u001b[0;34m(\u001b[0m\u001b[0mself\u001b[0m\u001b[0;34m,\u001b[0m \u001b[0mname\u001b[0m\u001b[0;34m)\u001b[0m\u001b[0;34m\u001b[0m\u001b[0;34m\u001b[0m\u001b[0m\n\u001b[0m\u001b[1;32m   5488\u001b[0m \u001b[0;34m\u001b[0m\u001b[0m\n\u001b[1;32m   5489\u001b[0m     \u001b[0;32mdef\u001b[0m \u001b[0m__setattr__\u001b[0m\u001b[0;34m(\u001b[0m\u001b[0mself\u001b[0m\u001b[0;34m,\u001b[0m \u001b[0mname\u001b[0m\u001b[0;34m:\u001b[0m \u001b[0mstr\u001b[0m\u001b[0;34m,\u001b[0m \u001b[0mvalue\u001b[0m\u001b[0;34m)\u001b[0m \u001b[0;34m->\u001b[0m \u001b[0;32mNone\u001b[0m\u001b[0;34m:\u001b[0m\u001b[0;34m\u001b[0m\u001b[0;34m\u001b[0m\u001b[0m\n",
      "\u001b[0;31mAttributeError\u001b[0m: 'DataFrame' object has no attribute 'crs'"
     ]
    }
   ],
   "source": [
    "county_data.crs"
   ]
  },
  {
   "cell_type": "code",
   "execution_count": 17,
   "id": "2715e6f1",
   "metadata": {},
   "outputs": [],
   "source": [
    "App_Tract = gpd.read_file(\"/Users/baiken/Documents/GitHub/680/Aiken_Ben_AppalachiaBroadband/raw_data/App_Tract\")"
   ]
  },
  {
   "cell_type": "code",
   "execution_count": 20,
   "id": "f0ebd59f",
   "metadata": {},
   "outputs": [
    {
     "data": {
      "text/plain": [
       "<Geographic 2D CRS: EPSG:4269>\n",
       "Name: NAD83\n",
       "Axis Info [ellipsoidal]:\n",
       "- Lat[north]: Geodetic latitude (degree)\n",
       "- Lon[east]: Geodetic longitude (degree)\n",
       "Area of Use:\n",
       "- name: North America - onshore and offshore: Canada - Alberta; British Columbia; Manitoba; New Brunswick; Newfoundland and Labrador; Northwest Territories; Nova Scotia; Nunavut; Ontario; Prince Edward Island; Quebec; Saskatchewan; Yukon. Puerto Rico. United States (USA) - Alabama; Alaska; Arizona; Arkansas; California; Colorado; Connecticut; Delaware; Florida; Georgia; Hawaii; Idaho; Illinois; Indiana; Iowa; Kansas; Kentucky; Louisiana; Maine; Maryland; Massachusetts; Michigan; Minnesota; Mississippi; Missouri; Montana; Nebraska; Nevada; New Hampshire; New Jersey; New Mexico; New York; North Carolina; North Dakota; Ohio; Oklahoma; Oregon; Pennsylvania; Rhode Island; South Carolina; South Dakota; Tennessee; Texas; Utah; Vermont; Virginia; Washington; West Virginia; Wisconsin; Wyoming. US Virgin Islands.  British Virgin Islands.\n",
       "- bounds: (167.65, 14.92, -47.74, 86.46)\n",
       "Datum: North American Datum 1983\n",
       "- Ellipsoid: GRS 1980\n",
       "- Prime Meridian: Greenwich"
      ]
     },
     "execution_count": 20,
     "metadata": {},
     "output_type": "execute_result"
    }
   ],
   "source": [
    "App_Tract.crs"
   ]
  }
 ],
 "metadata": {
  "kernelspec": {
   "display_name": "Python 3 (ipykernel)",
   "language": "python",
   "name": "python3"
  },
  "language_info": {
   "codemirror_mode": {
    "name": "ipython",
    "version": 3
   },
   "file_extension": ".py",
   "mimetype": "text/x-python",
   "name": "python",
   "nbconvert_exporter": "python",
   "pygments_lexer": "ipython3",
   "version": "3.8.12"
  }
 },
 "nbformat": 4,
 "nbformat_minor": 5
}
