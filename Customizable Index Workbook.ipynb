{
 "cells": [
  {
   "cell_type": "markdown",
   "id": "83501b53",
   "metadata": {},
   "source": [
    "# Customizable Index Workbook"
   ]
  },
  {
   "cell_type": "markdown",
   "id": "c37b0399",
   "metadata": {},
   "source": [
    "This jupyter notebook is designed to be customized to fit the needs of a decisionmaker looking to allocate broadband resources to the Appalachia region.\n",
    "\n",
    "Run each cell below to load and clean the data, then follow the instructions below to create your own prioritization system."
   ]
  },
  {
   "cell_type": "markdown",
   "id": "99ea4cf9",
   "metadata": {},
   "source": [
    "## Setup"
   ]
  },
  {
   "cell_type": "code",
   "execution_count": null,
   "id": "05bea929",
   "metadata": {},
   "outputs": [],
   "source": [
    "#load packages\n",
    "import pandas as pd\n",
    "import geopandas as gpd\n",
    "import numpy as np\n",
    "import folium"
   ]
  },
  {
   "cell_type": "markdown",
   "id": "5fe7923c",
   "metadata": {},
   "source": [
    "Download the App_Data shapefile from the raw_data folder in the github here - https://github.com/CPLN-680-Spring-2022/Aiken_Ben_AppalachiaBroadband/tree/main/raw_data <br>\n",
    "Then, add the file pathname to the code below."
   ]
  },
  {
   "cell_type": "code",
   "execution_count": null,
   "id": "88c382b4",
   "metadata": {},
   "outputs": [],
   "source": [
    "#load data\n",
    "app_data = gpd.read_file('___instert App_Data shapefile pathname here___')\n",
    "#make geojson version\n",
    "counties_geojson = app_data.to_crs(epsg=4326).to_json()"
   ]
  },
  {
   "cell_type": "code",
   "execution_count": null,
   "id": "abc23266",
   "metadata": {},
   "outputs": [],
   "source": [
    "#clean up column names\n",
    "app_data.set_axis(['County',\n",
    "                     'STUSPS',\n",
    "                     'STATEFP',\n",
    "                     'COUNTYFP',\n",
    "                     'GEOID',\n",
    "                     'total pop',\n",
    "                     'pop_density',\n",
    "                     'pop_density_land',\n",
    "                     'Pop per sq mile',\n",
    "                     'pop_density_percentile',\n",
    "                     'male median age',\n",
    "                     'female median age',\n",
    "                     '16 to 19',\n",
    "                     '20 to 24',\n",
    "                     '25 to 44',\n",
    "                     '45 to 54',\n",
    "                     '55 to 64',\n",
    "                     '65+',\n",
    "                     'Under 18',\n",
    "                     '18 to 64',\n",
    "                     '16 to 44',\n",
    "                     '45 to 64',\n",
    "                     'pct 16 to 19',\n",
    "                     'pct 20 to 24',\n",
    "                     'pct 25 to 44',\n",
    "                     'pct 45 to 54',\n",
    "                     'pct 55 to 64',\n",
    "                     'pct under 18',\n",
    "                     'pct 18 to 64',\n",
    "                     'pct 16 to 44',\n",
    "                     'pct 45 to 64',\n",
    "                     'pct 65+',\n",
    "                     'Total Households for internet',\n",
    "                     'Total with Internet',\n",
    "                     'Total Households for computer',\n",
    "                     'Total Households for income and internet',\n",
    "                     '<10k',\n",
    "                     '10k to 20k',\n",
    "                     '20k to 35k',\n",
    "                     '35k to 50k',\n",
    "                     '50k to 75k',\n",
    "                     '>75k',\n",
    "                     'Total Households for age groups',\n",
    "                     'Total Households for education',\n",
    "                     'Less than HS grad',\n",
    "                     'HS grad but not college',\n",
    "                     \"Bachelor's or higher\",\n",
    "                     'Total Housholds for labor force',\n",
    "                     'Civilian labor force',\n",
    "                     'Civilian labor force, employed',\n",
    "                     'Civilian labor force, unemployed',\n",
    "                     'Not in labor force',\n",
    "                     'pct with internet',\n",
    "                     'pct with dial-up',\n",
    "                     'pct with broadband',\n",
    "                     'pct with cellular',\n",
    "                     'pct with BB:cable, fiber optic, or DSL',\n",
    "                     'pct with satelitte',\n",
    "                     'pct with other',\n",
    "                     'pct without internet',\n",
    "                     'pct with computer',\n",
    "                     'pct with comp + dial-up',\n",
    "                     'pct with comp + broadband',\n",
    "                     'pct with comp no internet',\n",
    "                     'pct without a computer',\n",
    "                     'pct <10k',\n",
    "                     'pct <10k with dial-up',\n",
    "                     'pct <10k with broadband',\n",
    "                     'pct <10k without internet sub',\n",
    "                     'pct 10k-20k',\n",
    "                     'pct 10k-20k with dial-up',\n",
    "                     'pct 10k-20k with broadband',\n",
    "                     'pct 10k-20k without internet sub',\n",
    "                     'pct 20k-35k',\n",
    "                     'pct 20k-35k with dial-up',\n",
    "                     'pct 20k-35k with broadband',\n",
    "                     'pct 20k-35k without internet sub',\n",
    "                     'pct 35k-50k',\n",
    "                     'pct 35k-50k with dial-up',\n",
    "                     'pct 35k-50k with broadband',\n",
    "                     'pct 35k-50k without internet sub',\n",
    "                     'pct 50k-75k',\n",
    "                     'pct 50k-75k with dial-up',\n",
    "                     'pct 50k-75k with broadband',\n",
    "                     'pct 50k-75k without internet sub',\n",
    "                     'pct >75k',\n",
    "                     'pct >75k with dial-up',\n",
    "                     'pct >75k with broadband',\n",
    "                     'pct >75k without internet sub',\n",
    "                     'pct under 18, has a computer',\n",
    "                     'pct under 18, has a comp + dial-up',\n",
    "                     'pct under 18, has a comp + broadband',\n",
    "                     'pct under 18, has a comp, no internet',\n",
    "                     'pct under 18, no comp',\n",
    "                     'pct 18-64, has a computer',\n",
    "                     'pct 18-64, has a comp + dial-up',\n",
    "                     'pct 18-64, has a comp + broadband',\n",
    "                     'pct 18-64, has a comp, no internet',\n",
    "                     'pct 18-64, no comp',\n",
    "                     'pct 65+, has a computer',\n",
    "                     'pct 65+, has a comp + dial-up',\n",
    "                     'pct 65+, has a comp + broadband',\n",
    "                     'pct 65+, has a comp, no internet',\n",
    "                     'pct 65+, no comp',\n",
    "                     'pct <HS',\n",
    "                     'pct <HS, has a computer',\n",
    "                     'pct <HS, has a comp + dial-up',\n",
    "                     'pct <HS, has a comp + broadband',\n",
    "                     'pct <HS, has a comp, no internet',\n",
    "                     'pct <HS, no comp',\n",
    "                     'pct HS grad',\n",
    "                     'pct HS grad, has a computer',\n",
    "                     'pct HS grad, has a comp + dial-up',\n",
    "                     'pct HS grad, has a comp + broadband',\n",
    "                     'pct HS grad, has a comp, no internet',\n",
    "                     'pct HS grad, no comp',\n",
    "                     'pct Bach+',\n",
    "                     'pct Bach+, has a computer',\n",
    "                     'pct Bach+, has a comp + dial-up',\n",
    "                     'pct Bach+, has a comp + broadband',\n",
    "                     'pct Bach+, has a comp, no internet',\n",
    "                     'pct Bach+, no comp',\n",
    "                     'pct civilian-employed',\n",
    "                     'pct civilian-employed, has a computer',\n",
    "                     'pct civilian-employed, has a comp + dial-up',\n",
    "                     'pct civilian-employed, has a comp + broadband',\n",
    "                     'pct civilian-employed, has a comp, no internet',\n",
    "                     'pct , no comp',\n",
    "                     'pct civilian-unemployed',\n",
    "                     'pct civilian-unemployed, has a computer',\n",
    "                     'pct civilian-unemployed, has a comp + dial-up',\n",
    "                     'pct civilian-unemployed, has a comp + broadband',\n",
    "                     'pct civilian-unemployed, has a comp, no internet',\n",
    "                     'pct civilian-unemployed, no comp',\n",
    "                     'pct not in labor force',\n",
    "                     'pct not in labor force, has a computer',\n",
    "                     'pct not in labor force, has a comp + dial-up',\n",
    "                     'pct not in labor force, has a comp + broadband',\n",
    "                     'pct not in labor force, has a comp, no internet',\n",
    "                     'pct not in labor force, no comp',\n",
    "                     'ALAND',\n",
    "                     'AWATER',\n",
    "                     'SUBREGION',\n",
    "                     'Index, FY 2020',\n",
    "                     'Index Rank, FY 2020',\n",
    "                     'Index Percentile, FY 2020',\n",
    "                     'Economic Status, FY 2020',\n",
    "                     'Index, FY 2019',\n",
    "                     'Index Rank, FY 2019',\n",
    "                     'Index Percentile, FY 2019',\n",
    "                     'Economic Status, FY 2019',\n",
    "                     'Index, FY 2018',\n",
    "                     'Index Rank, FY 2018',\n",
    "                     'Index Percentile, FY 2018',\n",
    "                     'Economic Status, FY 2018',\n",
    "                     'Index, FY 2017',\n",
    "                     'Index Rank, FY 2017',\n",
    "                     'Index Percentile, FY 2017',\n",
    "                     'Economic Status, FY 2017',\n",
    "                     'Index, FY 2016',\n",
    "                     'Index Rank, FY 2016',\n",
    "                     'Index Percentile, FY 2016',\n",
    "                     'Economic Status, FY 2016',\n",
    "                     'Index, FY 2015',\n",
    "                     'Index Rank, FY 2015',\n",
    "                     'Index Percentile, FY 2015',\n",
    "                     'Economic Status, FY 2015',\n",
    "                     'Index, FY 2014',\n",
    "                     'Index Rank, FY 2014',\n",
    "                     'Index Percentile, FY 2014',\n",
    "                     'Economic Status, FY 2014',\n",
    "                     'Index, FY 2013',\n",
    "                     'Index Rank, FY 2013',\n",
    "                     'Index Percentile, FY 2013',\n",
    "                     'Economic Status, FY 2013',\n",
    "                     'Index, FY 2012',\n",
    "                     'Index Rank, FY 2012',\n",
    "                     'Index Percentile, FY 2012',\n",
    "                     'Economic Status, FY 2012',\n",
    "                     'Index, FY 2011',\n",
    "                     'Index Rank, FY 2011',\n",
    "                     'Index Percentile, FY 2011',\n",
    "                     'Economic Status, FY 2011',\n",
    "                     'Index, FY 2010',\n",
    "                     'Index Rank, FY 2010',\n",
    "                     'Index Percentile, FY 2010',\n",
    "                     'Economic Status, FY 2010',\n",
    "                     'Index, FY 2009',\n",
    "                     'Index Rank, FY 2009',\n",
    "                     'Index Percentile, FY 2009',\n",
    "                     'Economic Status, FY 2009',\n",
    "                     'Index, FY 2008',\n",
    "                     'Index Rank, FY 2008',\n",
    "                     'Index Percentile, FY 2008',\n",
    "                     'Economic Status, FY 2008',\n",
    "                     'Index, FY 2007',\n",
    "                     'Index Rank, FY 2007',\n",
    "                     'Index Percentile, FY 2007',\n",
    "                     'Economic Status, FY 2007',\n",
    "                     '5 year Economic Percentile',\n",
    "                     '5 year Economic Designation',\n",
    "                     'Access to Broadband',\n",
    "                     'Broadband Provider Count',\n",
    "                     'Lowest Broadband Price',\n",
    "                     'pct acces to Broadband',\n",
    "                     'Higher Ed Inst Count',\n",
    "                     'Higher Ed Enrollment Count',\n",
    "                     'school density',\n",
    "                     'pct enrolled',\n",
    "                     'enrollment_percentile',\n",
    "                     'Mine Count 2020',\n",
    "                     'mine density',\n",
    "                     'mine per capita',\n",
    "                     'Mine Category',\n",
    "                     'bb_access_percentile',\n",
    "                     'bb_usage_percentile',\n",
    "                     'bb_price_percentile',\n",
    "                     'young_working_age_percentile',\n",
    "                     'hs_less_percentile',\n",
    "                     'hs_grad_percentile',\n",
    "                     'bach+_percentile',\n",
    "                     'Broadband Infrastructure Index',\n",
    "                     'Broadband Subsidy Index',\n",
    "                    'geometry'], axis=1, inplace=True)"
   ]
  },
  {
   "cell_type": "markdown",
   "id": "fe87eddf",
   "metadata": {},
   "source": [
    "## Calculate Index Values"
   ]
  },
  {
   "cell_type": "markdown",
   "id": "66204f34",
   "metadata": {},
   "source": [
    "Now that the data is all loaded, the next cell will calculate an example Broadband Infrastructure Index."
   ]
  },
  {
   "cell_type": "code",
   "execution_count": null,
   "id": "7bfbddfa",
   "metadata": {},
   "outputs": [],
   "source": [
    "#Example Code:\n",
    "app_data['Example Broadband Infrastructure Index'] = ((2 * (100 - app_data['bb_access_percentile'])) + #Low access x 2\n",
    "                                              (1.5 * (100 - app_data['bb_usage_percentile'])) + #Low usage x 1.5\n",
    "                                              (0.5 * (app_data['bb_price_percentile'])) + #highest cost x .5\n",
    "                                              (1.25 * (100 * app_data['Index Percentile, FY 2020'])) + #low 2020 econ x .75\n",
    "                                              (1.25 * (100 * app_data['5 year Economic Percentile'])) + #low 5-year econ x .75\n",
    "                                              (0.5 * (app_data['Mine Category'])) + #high mine location x .5\n",
    "                                              (1 * (app_data['young_working_age_percentile'])) + #high young working age x 1\n",
    "                                              (1 * (100 - app_data['pop_density_percentile'])) +  #low density x 1\n",
    "                                              (0.5 * (100 - app_data['enrollment_percentile'])) + #low ed access x .5 \n",
    "                                              (0.5 * (app_data['hs_less_percentile'])) + #high <HS x .5\n",
    "                                              (0.25 * (app_data['hs_grad_percentile'])) + #high HS+ x .25\n",
    "                                              (0.25 * (100 - app_data['bach+_percentile'])) #low bach degree x .25\n",
    "                                              )"
   ]
  },
  {
   "cell_type": "markdown",
   "id": "4c782087",
   "metadata": {},
   "source": [
    "This BII equation above is just an example.  In the cell below create your own BII using the following steps:\n",
    "\n",
    "1) insert the features you think are most important by copying the column name from the cell above that lists all<br>\n",
    "2) determine if they are positive (leave alone) or negative (subtract from 100, like the first feature in the example above <br>\n",
    "3) multiply it by your desired weight (like 2 for the first feautre in the example above).\n",
    "\n",
    "Give the features you think are most important higher weights and the features that you want to include, but are not as important, lower weights."
   ]
  },
  {
   "cell_type": "code",
   "execution_count": null,
   "id": "bbb88fa2",
   "metadata": {},
   "outputs": [],
   "source": [
    "#Fill in:                                    (weight * (value))   \n",
    "app_data['Broadband Infrastructure Index'] = ((()) + #feature 1\n",
    "                                              (()) + #feature 2\n",
    "                                              (()) + #feature 3\n",
    "                                              (()) + #feature 4\n",
    "                                              (()) #feature 5\n",
    "                                              )"
   ]
  },
  {
   "cell_type": "markdown",
   "id": "97f2d3a4",
   "metadata": {},
   "source": [
    "The next cell will create an example Broadband Subsidy Index."
   ]
  },
  {
   "cell_type": "code",
   "execution_count": null,
   "id": "9cb2801c",
   "metadata": {},
   "outputs": [],
   "source": [
    "#Example Code:\n",
    "app_data['Example Broadband Subsidy Index'] = ((2 * (app_data['bb_access_percentile'])) + #High access x 2\n",
    "                                       (2 * (100 - app_data['bb_usage_percentile'])) + #Low usage x 2\n",
    "                                       (0.5 * (app_data['bb_price_percentile'])) + #high cost x 1\n",
    "                                       (1 * (100 * app_data['Index Percentile, FY 2020']))) #low 5-year econ x .75   "
   ]
  },
  {
   "cell_type": "markdown",
   "id": "68c63c35",
   "metadata": {},
   "source": [
    "Follow the same steps as above to create your BSI in the cell below."
   ]
  },
  {
   "cell_type": "code",
   "execution_count": null,
   "id": "46cbf984",
   "metadata": {},
   "outputs": [],
   "source": [
    "#Fill in:                                    (weight * (value))   \n",
    "app_data['Broadband Subsidy Index'] = ((()) + #feature 1\n",
    "                                              (()) + #feature 2\n",
    "                                              (()) + #feature 3\n",
    "                                              (()) #feature 4\n",
    "                                              )"
   ]
  },
  {
   "cell_type": "markdown",
   "id": "5f2ea2cd",
   "metadata": {},
   "source": [
    "## Map Index Values"
   ]
  },
  {
   "cell_type": "markdown",
   "id": "d685ea8c",
   "metadata": {},
   "source": [
    "The cell below will create a map with the values of your custom BII.  Uncomment the last line and add your desired pathname to save the map as an html file."
   ]
  },
  {
   "cell_type": "code",
   "execution_count": null,
   "id": "aadd9914",
   "metadata": {},
   "outputs": [],
   "source": [
    "#map: BII\n",
    "m = folium.Map(\n",
    "    location=[37.59846053047453, -83.45363151803205],\n",
    "    tiles='cartodbpositron',\n",
    "    zoom_start=5.5\n",
    ")\n",
    "\n",
    "folium.Choropleth(\n",
    "    geo_data=counties_geojson,\n",
    "    data=app_data,\n",
    "    key_on='feature.properties.GEOID',\n",
    "    columns=[\"GEOID\", 'Broadband Infrastructure Index'],\n",
    "    fill_color='YlGnBu',\n",
    "    fill_opacity=0.7,\n",
    "    line_opacity=0.5,\n",
    "    line_weight=0.1,\n",
    "    legend_name='Broadband Infrastructure Index',\n",
    "    name='choropleth',\n",
    ").add_to(m)\n",
    "\n",
    "m\n",
    "#m.save('____insert pathname here______')"
   ]
  },
  {
   "cell_type": "markdown",
   "id": "c46f6826",
   "metadata": {},
   "source": [
    "Next, the cell below will create a map with the values of your custom BSI.  Once again, you can save your map using the last line of code."
   ]
  },
  {
   "cell_type": "code",
   "execution_count": null,
   "id": "9a298e2c",
   "metadata": {},
   "outputs": [],
   "source": [
    "#map: BSI\n",
    "m = folium.Map(\n",
    "    location=[37.59846053047453, -83.45363151803205],\n",
    "    tiles='cartodbpositron',\n",
    "    zoom_start=5.5\n",
    ")\n",
    "\n",
    "folium.Choropleth(\n",
    "    geo_data=counties_geojson,\n",
    "    data=app_data,\n",
    "    key_on='feature.properties.GEOID',\n",
    "    columns=[\"GEOID\", 'Broadband Subsidy Index'],\n",
    "    fill_color='YlGnBu',\n",
    "    fill_opacity=0.7,\n",
    "    line_opacity=0.5,\n",
    "    line_weight=0.1,\n",
    "    legend_name='Broadband Subsidy Index',\n",
    "    name='choropleth',\n",
    ").add_to(m)\n",
    "\n",
    "m\n",
    "#m.save('____insert pathname here______')"
   ]
  },
  {
   "cell_type": "markdown",
   "id": "aae89a69",
   "metadata": {},
   "source": [
    "## List top 10 of each Index"
   ]
  },
  {
   "cell_type": "markdown",
   "id": "b3eb63a5",
   "metadata": {},
   "source": [
    "Finally, the cell below will list the top 10 counties according to BII"
   ]
  },
  {
   "cell_type": "code",
   "execution_count": null,
   "id": "f25663e2",
   "metadata": {},
   "outputs": [],
   "source": [
    "BII_order = app_data.sort_values(by=['Broadband Infrastructure Index'])\n",
    "BII_order[-10:]"
   ]
  },
  {
   "cell_type": "markdown",
   "id": "6937d5a4",
   "metadata": {},
   "source": [
    "And the last cell will list the top 10 counties according to BSI."
   ]
  },
  {
   "cell_type": "code",
   "execution_count": null,
   "id": "7a04a17d",
   "metadata": {},
   "outputs": [],
   "source": [
    "BSI_order = app_data.sort_values(by=['Broadband Subsidy Index'])\n",
    "BSI_order[-10:]"
   ]
  },
  {
   "cell_type": "markdown",
   "id": "16eaefad",
   "metadata": {},
   "source": [
    "## Save your list"
   ]
  },
  {
   "cell_type": "markdown",
   "id": "c5c3564f",
   "metadata": {},
   "source": [
    "Add a pathname below to save your assigned indexes."
   ]
  },
  {
   "cell_type": "code",
   "execution_count": null,
   "id": "08ad0ff1",
   "metadata": {},
   "outputs": [],
   "source": [
    "app_data.to_csv('____instert desired pathname here____')"
   ]
  }
 ],
 "metadata": {
  "kernelspec": {
   "display_name": "Python 3 (ipykernel)",
   "language": "python",
   "name": "python3"
  },
  "language_info": {
   "codemirror_mode": {
    "name": "ipython",
    "version": 3
   },
   "file_extension": ".py",
   "mimetype": "text/x-python",
   "name": "python",
   "nbconvert_exporter": "python",
   "pygments_lexer": "ipython3",
   "version": "3.8.12"
  }
 },
 "nbformat": 4,
 "nbformat_minor": 5
}
